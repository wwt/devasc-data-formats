{
 "cells": [
  {
   "cell_type": "markdown",
   "id": "f722a42d-2cc0-49f4-b3d4-24b27237c10b",
   "metadata": {},
   "source": [
    "# DEVASC Unstructured vs. Structured Data Demo\n",
    "\n",
    "## Summary\n",
    "\n",
    "Programmatic interaction with infrastructure automation end systems and controllers typically involves a few common steps:\n",
    "\n",
    "1. Requesting information from a system or systems via API or RPC calls.\n",
    "2. Receiving a response to the request.\n",
    "3. Extracting or parsing the specific data you need from the response.\n",
    "\n",
    "---\n"
   ]
  },
  {
   "cell_type": "markdown",
   "id": "0911a093-5184-480e-8aba-302058b305c8",
   "metadata": {},
   "source": [
    "## Overview\n",
    "\n",
    "Often, the responses to API/RPC requests are lengthy and contain a lot of data that, while important, isn't relevant to your automation use case.  So then, how do we extract the data we need from a lengthy and potentially unformatted string of text in a way that is simple, predictable, and repeatable?  The short answer is, we need to work with that response in a structured data format and the most common formats in the infrastructure automation world are (in alphabetical order):\n",
    "\n",
    "1. JavaScript Object Notation (JSON)\n",
    "2. eXtensible Markup Language (XML)\n",
    "3. YAML Ain't Markup Language (YAML)\n",
    "\n",
    "This walkthrough will first demonstrate how we would have to parse and extract meaningful data _without_ a structured data format and then demonstrate how we a structured data format makes the entire process much simpler.\n",
    "\n",
    "---\n"
   ]
  },
  {
   "cell_type": "markdown",
   "id": "40e1f79b-3ff8-4cfd-9e65-23d6301b7e40",
   "metadata": {},
   "source": [
    "## Example programmatic API authentication with a Cisco APIC\n",
    "\n",
    "The Cisco Appliction Policy Infrastructure Controller (APIC) provides, among other things, the management plane for Cisco Application Centric Infrastructure (ACI), a software-defined data center network infrastructure platform.\n",
    "\n",
    "The REST API authentication process with an APIC involves:\n",
    "\n",
    "1. Sending credentials to the APIC via HTTP POST.\n",
    "2. Extracting the **token** from the response body.\n",
    "\n",
    "After authentication is complete, you can use the resulting **token** to interact with and manage the configuration and policy endpoints in the APIC API.  For more information about the Cisco APIC REST API authentication process, [click here](https://www.cisco.com/c/en/us/td/docs/switches/datacenter/aci/apic/sw/4-x/rest-api-config/Cisco-APIC-REST-API-Configuration-Guide-401/Cisco-APIC-REST-API-Configuration-Guide-401_chapter_00.html#concept_D16AC6DC9CCD4351A4A40287487F061A \"Cisco APIC REST API: Authenticating and Mainint an API Session\")."
   ]
  },
  {
   "cell_type": "markdown",
   "id": "7b60b4dc-94f2-4d78-8220-c02261c33c67",
   "metadata": {},
   "source": [
    "---\n",
    "\n",
    "---\n",
    "\n",
    "### Part 1: Perform Cisco ACI authentication via the APIC API\n",
    "\n",
    "The target APIC for this demo is the [Cisco DevNet Always-On Sandbox](https://devnetsandbox.cisco.com/RM/Diagram/Index/5a229a7c-95d5-4cfd-a651-5ee9bc1b30e2?diagramType=Topology \"Cisco DevNet Always-On Sandbox\").  This sandbox is available to anyone with a [Cisco DevNet account](https://developer.cisco.com \"Cisco DevNet\") and provides read _and_ write access to a live, functional Cisco APIC. "
   ]
  },
  {
   "cell_type": "markdown",
   "id": "d2dd4c32-67d3-44b8-81ef-7285da67a152",
   "metadata": {},
   "source": [
    "**Note:** Don't worry if you aren't familiar with all of the Python code below.  The point of this walkthrough is to show you an example of the difference between working with **unstructured** and **structured** data, and is _not_ intended as a Python lesson for the APIC REST API.\n",
    "\n",
    "---\n"
   ]
  },
  {
   "cell_type": "markdown",
   "id": "cdd182bb-d06f-49a0-8d67-4571c64dcb49",
   "metadata": {},
   "source": [
    "The Python [`requests`](https://docs.python-requests.org/en/master/ \"Python Requests Module Documentation\") module provides a frendly way to interact with REST-based APIs.\n",
    "\n",
    "##### Step 1: Import the requests module and disable certificate warnings\n",
    "\n",
    "---\n"
   ]
  },
  {
   "cell_type": "code",
   "execution_count": 1,
   "id": "1b5e9d77-8108-4fee-aed2-7bb9e1a02c2c",
   "metadata": {},
   "outputs": [],
   "source": [
    "import requests\n",
    "requests.packages.urllib3.disable_warnings()"
   ]
  },
  {
   "cell_type": "markdown",
   "id": "76861baf-3e9c-485a-9ad1-9af99971d3a1",
   "metadata": {},
   "source": [
    "##### Step 2: Create variables for the APIC REST API URL and credentials\n",
    "\n",
    "---\n"
   ]
  },
  {
   "cell_type": "code",
   "execution_count": 2,
   "id": "d57b1cd2-4136-4afc-a758-220692d14ee3",
   "metadata": {},
   "outputs": [],
   "source": [
    "url = 'https://sandboxapicdc.cisco.com/api/aaaLogin.json'\n",
    "name = 'admin'\n",
    "pwd = 'ciscopsdt'"
   ]
  },
  {
   "cell_type": "markdown",
   "id": "bb9cf366-97aa-4811-b85d-d0d9ffc7628e",
   "metadata": {},
   "source": [
    "##### Step 3: Create the [Cisco-documented](https://www.cisco.com/c/en/us/td/docs/switches/datacenter/aci/apic/sw/4-x/rest-api-config/Cisco-APIC-REST-API-Configuration-Guide-401/Cisco-APIC-REST-API-Configuration-Guide-401_chapter_00.html#concept_D16AC6DC9CCD4351A4A40287487F061A \"Cisco APIC API Authentication Documentation\") APIC authentication body\n",
    "\n",
    "---\n"
   ]
  },
  {
   "cell_type": "code",
   "execution_count": 3,
   "id": "16cc3334-db31-41c0-afd3-14f09c5c75f7",
   "metadata": {},
   "outputs": [],
   "source": [
    "json = {\n",
    "    'aaaUser': {\n",
    "        'attributes': {\n",
    "            'name': name,\n",
    "            'pwd': pwd\n",
    "        }\n",
    "    }\n",
    "}"
   ]
  },
  {
   "cell_type": "markdown",
   "id": "a13f9ecc-ae62-4871-8c66-ddf3c64f528d",
   "metadata": {},
   "source": [
    "##### Step 4: Request an authorization token from the APIC\n",
    "\n",
    "---\n"
   ]
  },
  {
   "cell_type": "code",
   "execution_count": 4,
   "id": "a1615b15-8ea5-4385-b1ca-99d2cad3604e",
   "metadata": {},
   "outputs": [],
   "source": [
    "login_response = requests.post(  # Create an HTTP POST request\n",
    "    url=url,                     # Set the target URL parameter (url) to the value of our 'url' variable\n",
    "    json=json,                   # Set the JSON body URL parameter (json) to the value of our 'json' variable\n",
    "    verify=False,                # Disable certificate verification checks (this APIC has a self-signed certificate)\n",
    "    timeout=5                    # Set a timeout value (the default is timeout is infinite)\n",
    ")"
   ]
  },
  {
   "cell_type": "markdown",
   "id": "18bd8b0b-8ef2-4726-8f1e-31c4af0dd808",
   "metadata": {},
   "source": [
    "##### Step 5: Confirm that the HTTP response code and reason values are '200' and 'OK', respectively\n",
    "\n",
    "**Note:** Occasionally, this ACI sandbox experiences congestion which can cause API requests to fail.  If you do not receive a `200 OK` response from the APIC, wait a few minutes and try again.\n",
    "\n",
    "---\n"
   ]
  },
  {
   "cell_type": "code",
   "execution_count": 5,
   "id": "f81fb70d-b289-4f67-afeb-b7d09f2496fa",
   "metadata": {},
   "outputs": [
    {
     "name": "stdout",
     "output_type": "stream",
     "text": [
      "200 OK\n"
     ]
    }
   ],
   "source": [
    "print(f'{login_response.status_code} {login_response.reason}')"
   ]
  },
  {
   "cell_type": "markdown",
   "id": "06b74abf-c880-465d-b41c-352805515da1",
   "metadata": {},
   "source": [
    "##### Step 6: Display the APIC login response body as text\n",
    "\n",
    "---\n"
   ]
  },
  {
   "cell_type": "code",
   "execution_count": 6,
   "id": "504665e6-b61a-433c-90b2-44af67d16692",
   "metadata": {},
   "outputs": [
    {
     "name": "stdout",
     "output_type": "stream",
     "text": [
      "{\"totalCount\":\"1\",\"imdata\":[{\"aaaLogin\":{\"attributes\":{\"token\":\"aAAAAAAAAAAAAAAAAAAAAJhNZSsUcKARKKGovgUSdyFpEnTsu8lDsYT4Gcz8bo7d2q9xYPtZ8t0OO8BJWGpXrHwqDjRRWw1mbOKvs3t8V1F+4nLQCsq5PLqOH3c5Z07OLXXLRIvvTZABcr19XVRS1RKSyKRqgVFXHlSO3COlxfBl/nAXnPZq6Rd2ACvyps+0/3MG+RDux90hugdH+fSaNw==\",\"siteFingerprint\":\"EQOmXY+ByqJiFvug\",\"refreshTimeoutSeconds\":\"600\",\"maximumLifetimeSeconds\":\"86400\",\"guiIdleTimeoutSeconds\":\"1200\",\"restTimeoutSeconds\":\"90\",\"creationTime\":\"1624530631\",\"firstLoginTime\":\"1624530631\",\"userName\":\"admin\",\"remoteUser\":\"false\",\"unixUserId\":\"15374\",\"sessionId\":\"pYBirbEASIeyL9WnbT39EA==\",\"lastName\":\"\",\"firstName\":\"\",\"changePassword\":\"no\",\"version\":\"4.1(1k)\",\"buildTime\":\"Mon May 13 16:27:03 PDT 2019\",\"node\":\"topology/pod-1/node-1\"},\"children\":[{\"aaaUserDomain\":{\"attributes\":{\"name\":\"all\",\"rolesR\":\"admin\",\"rolesW\":\"admin\"},\"children\":[{\"aaaReadRoles\":{\"attributes\":{}}},{\"aaaWriteRoles\":{\"attributes\":{},\"children\":[{\"role\":{\"attributes\":{\"name\":\"admin\"}}}]}}]}},{\"DnDomainMapEntry\":{\"attributes\":{\"dn\":\"uni/tn-infra\",\"readPrivileges\":\"admin\",\"writePrivileges\":\"admin\"}}},{\"DnDomainMapEntry\":{\"attributes\":{\"dn\":\"uni/tn-mgmt\",\"readPrivileges\":\"admin\",\"writePrivileges\":\"admin\"}}},{\"DnDomainMapEntry\":{\"attributes\":{\"dn\":\"uni/tn-common\",\"readPrivileges\":\"admin\",\"writePrivileges\":\"admin\"}}}]}}]}\n"
     ]
    }
   ],
   "source": [
    "print(login_response.text)"
   ]
  },
  {
   "cell_type": "markdown",
   "id": "8ff8e601-f620-4e14-8a79-fc5a8cc915d8",
   "metadata": {},
   "source": [
    "##### Step 7: Use the `type` method to display the object type for the text APIC login response body\n",
    "\n",
    "---\n"
   ]
  },
  {
   "cell_type": "code",
   "execution_count": 7,
   "id": "70026b6e-d157-4171-ad81-e740a46931b4",
   "metadata": {},
   "outputs": [
    {
     "name": "stdout",
     "output_type": "stream",
     "text": [
      "<class 'str'>\n"
     ]
    }
   ],
   "source": [
    "print(type(login_response.text))"
   ]
  },
  {
   "cell_type": "markdown",
   "id": "803f9a0e-6d01-4f3e-8f22-c2dc909ebce8",
   "metadata": {},
   "source": [
    "---\n",
    "\n",
    "### Part 1 Summary\n",
    "\n",
    "We successfully authenticated with the APIC although the response from the APIC looks like a complete mess.  The APIC response contains a `token` value, which is what we need for future API requests.\n",
    "\n",
    "```python\n",
    "# Example APIC token\n",
    "\"token\":\"awIAAAAAAAAAAAAAAAAAAHpd0Ybc6/p7+qlQ2jyONq9fSYu8keKDUs5fV0FMABxnBb+GuRlyNKZsausshy4FiKeDDR+FTCYqYI9BAN4hMC3Zll7E6LTAanW40p+dCUOf9BkPu7Nd2kEudETJNBTFnvZ2a2n2731YOB9AP/yVU8pEy0VZ5zWqwJqrxX9AOQmmh/yq/fAdV6YCF6QswuE9sA==\"\n",
    "```\n",
    "\n",
    "However, **Step 7** tells us that the entire APIC login response is a `string` which means Python does not see the login response as a data structure that we can easily parse."
   ]
  },
  {
   "cell_type": "markdown",
   "id": "cec78587-7c33-43b2-8d92-9163ef863c0c",
   "metadata": {},
   "source": [
    "---\n",
    "\n",
    "---\n",
    "\n",
    "### Part 2: Parse the token from an unstructured (`string`) response body\n",
    "\n",
    "There are many techniques to parse and extract specfic data from strings and one of the more common methods is to use regular expressions, to find very specific sub-strings in a `string`.\n",
    "\n",
    "---"
   ]
  },
  {
   "cell_type": "markdown",
   "id": "4e4105c3-dbc0-484c-b6d3-52bb3af6f3da",
   "metadata": {},
   "source": [
    "##### Step 1: Import the regular expression (`re`) module\n",
    "\n",
    "---\n"
   ]
  },
  {
   "cell_type": "code",
   "execution_count": 8,
   "id": "b6d69f27-78d3-418c-a4f4-67f41a6f8d20",
   "metadata": {},
   "outputs": [],
   "source": [
    "import re"
   ]
  },
  {
   "cell_type": "markdown",
   "id": "9153cd83-c120-42cf-a48f-8303eebdc299",
   "metadata": {},
   "source": [
    "##### Step 2: Create a regular expression match pattern to parse the token from the APIC login response body\n",
    "\n",
    "Assign the pattern match `string` to the variable `token_pattern`.\n",
    "\n",
    "---\n"
   ]
  },
  {
   "cell_type": "code",
   "execution_count": 9,
   "id": "8300e015-38ce-4930-9b76-7d15633d884b",
   "metadata": {},
   "outputs": [],
   "source": [
    "token_pattern = re.compile(r'''\n",
    "    (\"token\":\")   # Match group #1: the literal string, 'token=\"'\n",
    "    (.+?)         # Match group #2: first instance of everything between groups #1 & #3\n",
    "    (\",\"?)        # Match group #3: first instance of a \" followed by a space character\n",
    "    ''',\n",
    "    re.VERBOSE\n",
    ")"
   ]
  },
  {
   "cell_type": "markdown",
   "id": "5cd5d7ba-289d-4fb1-b9d5-40a7868870b5",
   "metadata": {},
   "source": [
    "##### Step 3: Use the regular expression match pattern (`token_pattern`) to search the APIC login response for the token value\n",
    "\n",
    "Pass the `search` method an argument (`login_response.text`) that represents the string to search with the `token_pattern` match pattern.\n",
    "\n",
    "Assign the results of the search to the variable `token_search`.\n",
    "\n",
    "---\n"
   ]
  },
  {
   "cell_type": "code",
   "execution_count": 10,
   "id": "7b37548e-2101-4ef4-9b63-b35b4b71a176",
   "metadata": {},
   "outputs": [],
   "source": [
    "token_search = token_pattern.search(login_response.text)"
   ]
  },
  {
   "cell_type": "markdown",
   "id": "5386d7d8-006a-449a-8f44-bd2ef483b0b5",
   "metadata": {},
   "source": [
    "##### Step 4: Determine if any values match the regular expression for group \\#2\n",
    "\n",
    "Display the object `token_search.group(2)` and review the data.\n",
    "\n",
    "**Note:** If the result of the search operation is `NoneType`, the regular expression pattern did not match properly.\n",
    "\n",
    "---\n"
   ]
  },
  {
   "cell_type": "code",
   "execution_count": 11,
   "id": "3d43a02c-302c-43c9-96d5-42499a92efa1",
   "metadata": {},
   "outputs": [
    {
     "name": "stdout",
     "output_type": "stream",
     "text": [
      "aAAAAAAAAAAAAAAAAAAAAJhNZSsUcKARKKGovgUSdyFpEnTsu8lDsYT4Gcz8bo7d2q9xYPtZ8t0OO8BJWGpXrHwqDjRRWw1mbOKvs3t8V1F+4nLQCsq5PLqOH3c5Z07OLXXLRIvvTZABcr19XVRS1RKSyKRqgVFXHlSO3COlxfBl/nAXnPZq6Rd2ACvyps+0/3MG+RDux90hugdH+fSaNw==\n"
     ]
    }
   ],
   "source": [
    "print(token_search.group(2))"
   ]
  },
  {
   "cell_type": "markdown",
   "id": "3d8ea286-794e-4cc7-b4ac-e7cb35d42d12",
   "metadata": {},
   "source": [
    "##### Step 5: Assign the search result to a variable named, 'token' and display the 'token' variable value\n",
    "\n",
    "---\n"
   ]
  },
  {
   "cell_type": "code",
   "execution_count": 12,
   "id": "2e848acf-b4c9-4d9e-ac52-c5bc0a90334c",
   "metadata": {},
   "outputs": [
    {
     "name": "stdout",
     "output_type": "stream",
     "text": [
      "aAAAAAAAAAAAAAAAAAAAAJhNZSsUcKARKKGovgUSdyFpEnTsu8lDsYT4Gcz8bo7d2q9xYPtZ8t0OO8BJWGpXrHwqDjRRWw1mbOKvs3t8V1F+4nLQCsq5PLqOH3c5Z07OLXXLRIvvTZABcr19XVRS1RKSyKRqgVFXHlSO3COlxfBl/nAXnPZq6Rd2ACvyps+0/3MG+RDux90hugdH+fSaNw==\n"
     ]
    }
   ],
   "source": [
    "token = token_search.group(2)\n",
    "print(token)"
   ]
  },
  {
   "cell_type": "markdown",
   "id": "54407323-5dd7-4bb7-acf3-7bf2af129583",
   "metadata": {},
   "source": [
    "### Part 2 Summary\n",
    "\n",
    "We successfully parsed/extracted the `token` value from the unstructured data object (`login_response.text`) although the process is somewhat of a complicated mess and the code to parse the `token` value is not something we can easily reuse with a different automation platform."
   ]
  },
  {
   "cell_type": "markdown",
   "id": "188b5470-56d3-49d3-bcc1-8a34efa373a2",
   "metadata": {},
   "source": [
    "---\n",
    "\n",
    "---\n",
    "\n",
    "### Part 3: Parse the token from a structured version of the APIC response body\n",
    "\n",
    "While the previous text parsing example is a bit clumsy, we can easily put the APIC login response in a structured data format and, along the way, make our code much cleaner and more reusable.\n",
    "\n",
    "---\n"
   ]
  },
  {
   "cell_type": "markdown",
   "id": "ed0ad100-4f65-4d9b-a03e-911d2db7e725",
   "metadata": {},
   "source": [
    "##### Step 1: Assign a JSON-encoded version of the response body to a variable named, `json_response`\n",
    "\n",
    "The `requests` library provides an easy-to-use method which transforms a JSON `string` into structured Python data.  Not every REST API supports JSON encoding although the APIC allows us to choose between JSON and XML encoding and, in this example, we told the APIC to send us a JSON-formatted response to our authentication request.\n",
    "\n",
    "**Note:** Specifically for a Cisco APIC, we define the API response encoding format when we set the `url` variable to `https://sandboxapicdc.cisco.com/api/aaaLogin.json`.  Replacing `.json` with `.xml` woulc change the response encoding format to XML.\n",
    "\n",
    "Use the `json` method on the variable which stores the response to our APIC authentication request (`login_response`) and store the resulting value in the new variable, `json_response`.\n",
    "\n",
    "---\n"
   ]
  },
  {
   "cell_type": "code",
   "execution_count": 13,
   "id": "572a4038-fee1-45cf-aafb-2cb8d5e4f30e",
   "metadata": {},
   "outputs": [],
   "source": [
    "json_response = login_response.json()"
   ]
  },
  {
   "cell_type": "markdown",
   "id": "64062d44-5b22-42a5-a5da-4d3d68549cce",
   "metadata": {},
   "source": [
    "##### Step 2: Use the `type` method to display the object type for the JSON version of the APIC login response body (`json_response`)\n",
    "\n",
    "---\n"
   ]
  },
  {
   "cell_type": "code",
   "execution_count": 14,
   "id": "d3f8ec9c-65ae-4381-84ff-2b7c3a602b91",
   "metadata": {},
   "outputs": [
    {
     "name": "stdout",
     "output_type": "stream",
     "text": [
      "<class 'dict'>\n"
     ]
    }
   ],
   "source": [
    "print(type(json_response))"
   ]
  },
  {
   "cell_type": "markdown",
   "id": "a685bb3f-9a6f-4dbd-b8aa-f051f697173d",
   "metadata": {},
   "source": [
    "##### Step 3: Display the Python dictionary APIC login response body\n",
    "\n",
    "Now that the response object from the APIC is a Python dictionary, we can navigate the structured data more programmatically, to extract the `token` value that we need.\n",
    "\n",
    "---\n"
   ]
  },
  {
   "cell_type": "code",
   "execution_count": 15,
   "id": "411ae09e-cb5a-46ce-b1d0-601e128a3e38",
   "metadata": {},
   "outputs": [
    {
     "name": "stdout",
     "output_type": "stream",
     "text": [
      "{'totalCount': '1', 'imdata': [{'aaaLogin': {'attributes': {'token': 'aAAAAAAAAAAAAAAAAAAAAJhNZSsUcKARKKGovgUSdyFpEnTsu8lDsYT4Gcz8bo7d2q9xYPtZ8t0OO8BJWGpXrHwqDjRRWw1mbOKvs3t8V1F+4nLQCsq5PLqOH3c5Z07OLXXLRIvvTZABcr19XVRS1RKSyKRqgVFXHlSO3COlxfBl/nAXnPZq6Rd2ACvyps+0/3MG+RDux90hugdH+fSaNw==', 'siteFingerprint': 'EQOmXY+ByqJiFvug', 'refreshTimeoutSeconds': '600', 'maximumLifetimeSeconds': '86400', 'guiIdleTimeoutSeconds': '1200', 'restTimeoutSeconds': '90', 'creationTime': '1624530631', 'firstLoginTime': '1624530631', 'userName': 'admin', 'remoteUser': 'false', 'unixUserId': '15374', 'sessionId': 'pYBirbEASIeyL9WnbT39EA==', 'lastName': '', 'firstName': '', 'changePassword': 'no', 'version': '4.1(1k)', 'buildTime': 'Mon May 13 16:27:03 PDT 2019', 'node': 'topology/pod-1/node-1'}, 'children': [{'aaaUserDomain': {'attributes': {'name': 'all', 'rolesR': 'admin', 'rolesW': 'admin'}, 'children': [{'aaaReadRoles': {'attributes': {}}}, {'aaaWriteRoles': {'attributes': {}, 'children': [{'role': {'attributes': {'name': 'admin'}}}]}}]}}, {'DnDomainMapEntry': {'attributes': {'dn': 'uni/tn-infra', 'readPrivileges': 'admin', 'writePrivileges': 'admin'}}}, {'DnDomainMapEntry': {'attributes': {'dn': 'uni/tn-mgmt', 'readPrivileges': 'admin', 'writePrivileges': 'admin'}}}, {'DnDomainMapEntry': {'attributes': {'dn': 'uni/tn-common', 'readPrivileges': 'admin', 'writePrivileges': 'admin'}}}]}}]}\n"
     ]
    }
   ],
   "source": [
    "print(json_response)"
   ]
  },
  {
   "cell_type": "markdown",
   "id": "c0ac6e62-71fc-4c84-9f50-743b31bacd94",
   "metadata": {},
   "source": [
    "##### Step 4: Use the _Pretty Print_ module to display the structured data in a more readable format\n",
    "\n",
    "In case you are wondering, \"doesn't the structured response from the APIC look just as difficult to read as the unstructured response?\"  The answer is, yes although, since we have structured data available now, we can use the Python _Pretty Print_ (`pprint`) module to make the response a bit easier to read.\n",
    "\n",
    "---\n"
   ]
  },
  {
   "cell_type": "code",
   "execution_count": 16,
   "id": "ffa4c232-b5c2-4c06-9089-7eb3b5196a2e",
   "metadata": {},
   "outputs": [
    {
     "name": "stdout",
     "output_type": "stream",
     "text": [
      "{'imdata': [{'aaaLogin': {'attributes': {'buildTime': 'Mon May 13 16:27:03 PDT '\n",
      "                                                      '2019',\n",
      "                                         'changePassword': 'no',\n",
      "                                         'creationTime': '1624530631',\n",
      "                                         'firstLoginTime': '1624530631',\n",
      "                                         'firstName': '',\n",
      "                                         'guiIdleTimeoutSeconds': '1200',\n",
      "                                         'lastName': '',\n",
      "                                         'maximumLifetimeSeconds': '86400',\n",
      "                                         'node': 'topology/pod-1/node-1',\n",
      "                                         'refreshTimeoutSeconds': '600',\n",
      "                                         'remoteUser': 'false',\n",
      "                                         'restTimeoutSeconds': '90',\n",
      "                                         'sessionId': 'pYBirbEASIeyL9WnbT39EA==',\n",
      "                                         'siteFingerprint': 'EQOmXY+ByqJiFvug',\n",
      "                                         'token': 'aAAAAAAAAAAAAAAAAAAAAJhNZSsUcKARKKGovgUSdyFpEnTsu8lDsYT4Gcz8bo7d2q9xYPtZ8t0OO8BJWGpXrHwqDjRRWw1mbOKvs3t8V1F+4nLQCsq5PLqOH3c5Z07OLXXLRIvvTZABcr19XVRS1RKSyKRqgVFXHlSO3COlxfBl/nAXnPZq6Rd2ACvyps+0/3MG+RDux90hugdH+fSaNw==',\n",
      "                                         'unixUserId': '15374',\n",
      "                                         'userName': 'admin',\n",
      "                                         'version': '4.1(1k)'},\n",
      "                          'children': [{'aaaUserDomain': {'attributes': {'name': 'all',\n",
      "                                                                         'rolesR': 'admin',\n",
      "                                                                         'rolesW': 'admin'},\n",
      "                                                          'children': [{'aaaReadRoles': {'attributes': {}}},\n",
      "                                                                       {'aaaWriteRoles': {'attributes': {},\n",
      "                                                                                          'children': [{'role': {'attributes': {'name': 'admin'}}}]}}]}},\n",
      "                                       {'DnDomainMapEntry': {'attributes': {'dn': 'uni/tn-infra',\n",
      "                                                                            'readPrivileges': 'admin',\n",
      "                                                                            'writePrivileges': 'admin'}}},\n",
      "                                       {'DnDomainMapEntry': {'attributes': {'dn': 'uni/tn-mgmt',\n",
      "                                                                            'readPrivileges': 'admin',\n",
      "                                                                            'writePrivileges': 'admin'}}},\n",
      "                                       {'DnDomainMapEntry': {'attributes': {'dn': 'uni/tn-common',\n",
      "                                                                            'readPrivileges': 'admin',\n",
      "                                                                            'writePrivileges': 'admin'}}}]}}],\n",
      " 'totalCount': '1'}\n"
     ]
    }
   ],
   "source": [
    "from pprint import pprint\n",
    "pprint(json_response)"
   ]
  },
  {
   "cell_type": "markdown",
   "id": "19c7ca16-efb2-4a83-b313-750242e1d914",
   "metadata": {},
   "source": [
    "##### Step 5: Assign the `token` value from the Python dictionary APIC login response body to a variable named, `token`\n",
    "\n",
    "In the case of the Cisco APIC, the `token` value is a bit complex to parse/extract, because the `token` itself sits several levels below the root of the data structure.  We have to know how to navigate this data structure and parse/extrace very specific information.\n",
    "\n",
    "The next code block get's right to the solution although **Step 4** provides a walkthrough of the parsing process for this example.  Here's a quick description of the parsing process for the API login response:\n",
    "\n",
    "```python\n",
    "json_response                                 # the complete, JSON-formatted Python object which stores data\n",
    "[imdata]                                      # the top-level dictionary key\n",
    "[0]                                           # the first (and only) index of the list value assigned to the `json_response` object\n",
    "['aaaLogin']                                  # the next relevant dictionary key in the APIC response\n",
    "['attributes']                                # the next relevant dictionary key in the APIC response\n",
    "['token']                                     # the dictionary key which contains the actual APIC token\n",
    "```\n",
    "\n",
    "---\n"
   ]
  },
  {
   "cell_type": "code",
   "execution_count": 17,
   "id": "72022f2a-9e7b-498b-b29e-68f2b7fbef1e",
   "metadata": {},
   "outputs": [],
   "source": [
    "token = json_response['imdata'][0]['aaaLogin']['attributes']['token']"
   ]
  },
  {
   "cell_type": "markdown",
   "id": "350769a8-39e0-446d-a22d-98410cc049ed",
   "metadata": {},
   "source": [
    "##### Step 6: Display the value of the `token` variable\n",
    "\n",
    "---\n"
   ]
  },
  {
   "cell_type": "code",
   "execution_count": 18,
   "id": "ca0bad22-af83-485f-9ae5-2dbe9af38c53",
   "metadata": {},
   "outputs": [
    {
     "name": "stdout",
     "output_type": "stream",
     "text": [
      "aAAAAAAAAAAAAAAAAAAAAJhNZSsUcKARKKGovgUSdyFpEnTsu8lDsYT4Gcz8bo7d2q9xYPtZ8t0OO8BJWGpXrHwqDjRRWw1mbOKvs3t8V1F+4nLQCsq5PLqOH3c5Z07OLXXLRIvvTZABcr19XVRS1RKSyKRqgVFXHlSO3COlxfBl/nAXnPZq6Rd2ACvyps+0/3MG+RDux90hugdH+fSaNw==\n"
     ]
    }
   ],
   "source": [
    "print(token)"
   ]
  },
  {
   "cell_type": "markdown",
   "id": "64dc6482-c32d-4f51-8a3f-ab9b57ef7a17",
   "metadata": {},
   "source": [
    "### Part 3 Summary\n",
    "\n",
    "We successfully parsed/extracted the `token` value from the structured data object (`json_response`) in a way that doesn't require us to write a custom, regular expression text parser.  The code we just wrote is highly-reusable because, although the code requires a basic understanding of Python objects, the code does _not_ require experience with text searching/parsing."
   ]
  },
  {
   "cell_type": "markdown",
   "id": "ccd26ade-9f2f-47ce-8fbd-210efa17b4da",
   "metadata": {},
   "source": [
    "---\n",
    "\n",
    "---\n",
    "\n",
    "### Part 4 (optional): Review the process to extract the `token` value from the structured, Python Dictionary APIC response\n",
    "\n",
    "Here is a quick walkthrough of a methodology to extract nested data from a multi-layer Python object.\n",
    "\n",
    "**Note:** To help make the process of visualizing the APIC response in the format of a Python dictionary, several of the subsequent steps uses the _Pretty Print_ (`pprint`) method instead of the standard `print` method.\n",
    "\n",
    "---\n"
   ]
  },
  {
   "cell_type": "markdown",
   "id": "ff5693d8-b45a-476d-a3ec-d256c9d669e3",
   "metadata": {},
   "source": [
    "##### Step 1: Display the top-level `json_response` dictionary keys, as a starting point\n",
    "\n",
    "Use the `keys` method of the `json_response` dictionary object to reveal the available top-level dictionary keys.\n",
    "\n",
    "---\n"
   ]
  },
  {
   "cell_type": "code",
   "execution_count": 19,
   "id": "01cd6d15-29cb-4977-b320-e79f568ea9c6",
   "metadata": {},
   "outputs": [
    {
     "name": "stdout",
     "output_type": "stream",
     "text": [
      "dict_keys(['totalCount', 'imdata'])\n"
     ]
    }
   ],
   "source": [
    "print(json_response.keys())"
   ]
  },
  {
   "cell_type": "markdown",
   "id": "e36708f6-2bbb-45cf-b7d2-3b578d3c36f5",
   "metadata": {},
   "source": [
    "##### Step 2: Determine and display the object type for the `json_response['imdata']` dictionary key\n",
    "\n",
    "A quick look at the values for both the `totalCount` and `imdata` keys shows us that there isn't much data available in the `totalCount` value.  APIC documentation describes that the `imdata` key will contain the majority of the data in any APIC response.\n",
    "\n",
    "In order to examine the `imdata` object, we should first determine which type of Python object it is.\n",
    "\n",
    "---\n"
   ]
  },
  {
   "cell_type": "code",
   "execution_count": 20,
   "id": "631cbb83-c36b-4e4d-a9d2-8869056314f8",
   "metadata": {},
   "outputs": [
    {
     "name": "stdout",
     "output_type": "stream",
     "text": [
      "<class 'list'>\n"
     ]
    }
   ],
   "source": [
    "print(type(json_response['imdata']))"
   ]
  },
  {
   "cell_type": "markdown",
   "id": "95e2571d-9f6f-45e3-a5cb-8cb4abc848dc",
   "metadata": {},
   "source": [
    "##### Step 3: Display the size of the `json_response['imdata']` `list` object\n",
    "\n",
    "We just learned that the `imdata` object is a Python `list` so we should determine how long the list is, in order to understand whether or not we need to loop/iterate over several list items, or not.\n",
    "\n",
    "---\n"
   ]
  },
  {
   "cell_type": "code",
   "execution_count": 21,
   "id": "49dd31f4-fe20-4ca3-8469-c064d1c40251",
   "metadata": {},
   "outputs": [
    {
     "name": "stdout",
     "output_type": "stream",
     "text": [
      "1\n"
     ]
    }
   ],
   "source": [
    "pprint(len(json_response['imdata']))"
   ]
  },
  {
   "cell_type": "markdown",
   "id": "bb6a3750-304e-48a0-a7e1-56a621f4d87f",
   "metadata": {},
   "source": [
    "##### Step 4: Display the first item in the `json_response['imdata'][0]` `list` object\n",
    "\n",
    "We can see from the previous step that the `imdata` list has only one element.  As such we can directly access that element by displaying index 0 of the `imdata` object.\n",
    "\n",
    "---\n"
   ]
  },
  {
   "cell_type": "code",
   "execution_count": 22,
   "id": "b990e7a9-f995-4af8-90dc-799ac8c58a7e",
   "metadata": {},
   "outputs": [
    {
     "name": "stdout",
     "output_type": "stream",
     "text": [
      "{'aaaLogin': {'attributes': {'buildTime': 'Mon May 13 16:27:03 PDT 2019',\n",
      "                             'changePassword': 'no',\n",
      "                             'creationTime': '1624530631',\n",
      "                             'firstLoginTime': '1624530631',\n",
      "                             'firstName': '',\n",
      "                             'guiIdleTimeoutSeconds': '1200',\n",
      "                             'lastName': '',\n",
      "                             'maximumLifetimeSeconds': '86400',\n",
      "                             'node': 'topology/pod-1/node-1',\n",
      "                             'refreshTimeoutSeconds': '600',\n",
      "                             'remoteUser': 'false',\n",
      "                             'restTimeoutSeconds': '90',\n",
      "                             'sessionId': 'pYBirbEASIeyL9WnbT39EA==',\n",
      "                             'siteFingerprint': 'EQOmXY+ByqJiFvug',\n",
      "                             'token': 'aAAAAAAAAAAAAAAAAAAAAJhNZSsUcKARKKGovgUSdyFpEnTsu8lDsYT4Gcz8bo7d2q9xYPtZ8t0OO8BJWGpXrHwqDjRRWw1mbOKvs3t8V1F+4nLQCsq5PLqOH3c5Z07OLXXLRIvvTZABcr19XVRS1RKSyKRqgVFXHlSO3COlxfBl/nAXnPZq6Rd2ACvyps+0/3MG+RDux90hugdH+fSaNw==',\n",
      "                             'unixUserId': '15374',\n",
      "                             'userName': 'admin',\n",
      "                             'version': '4.1(1k)'},\n",
      "              'children': [{'aaaUserDomain': {'attributes': {'name': 'all',\n",
      "                                                             'rolesR': 'admin',\n",
      "                                                             'rolesW': 'admin'},\n",
      "                                              'children': [{'aaaReadRoles': {'attributes': {}}},\n",
      "                                                           {'aaaWriteRoles': {'attributes': {},\n",
      "                                                                              'children': [{'role': {'attributes': {'name': 'admin'}}}]}}]}},\n",
      "                           {'DnDomainMapEntry': {'attributes': {'dn': 'uni/tn-infra',\n",
      "                                                                'readPrivileges': 'admin',\n",
      "                                                                'writePrivileges': 'admin'}}},\n",
      "                           {'DnDomainMapEntry': {'attributes': {'dn': 'uni/tn-mgmt',\n",
      "                                                                'readPrivileges': 'admin',\n",
      "                                                                'writePrivileges': 'admin'}}},\n",
      "                           {'DnDomainMapEntry': {'attributes': {'dn': 'uni/tn-common',\n",
      "                                                                'readPrivileges': 'admin',\n",
      "                                                                'writePrivileges': 'admin'}}}]}}\n"
     ]
    }
   ],
   "source": [
    "pprint(json_response['imdata'][0])"
   ]
  },
  {
   "cell_type": "markdown",
   "id": "7fbe3b7e-df3f-4456-afbc-d2d432a8621e",
   "metadata": {},
   "source": [
    "##### Step 5: Display the value for the `json_response['imdata'][0]['aaaLogin']` dictionary key\n",
    "\n",
    "From the output in the previous step, we can see the next dictionary key to inspect is the `aaaLogin` key.\n",
    "\n",
    "---\n"
   ]
  },
  {
   "cell_type": "code",
   "execution_count": 23,
   "id": "97b5d0fc-7e54-447c-a6b9-e7346e0ca0d2",
   "metadata": {},
   "outputs": [
    {
     "name": "stdout",
     "output_type": "stream",
     "text": [
      "{'attributes': {'buildTime': 'Mon May 13 16:27:03 PDT 2019',\n",
      "                'changePassword': 'no',\n",
      "                'creationTime': '1624530631',\n",
      "                'firstLoginTime': '1624530631',\n",
      "                'firstName': '',\n",
      "                'guiIdleTimeoutSeconds': '1200',\n",
      "                'lastName': '',\n",
      "                'maximumLifetimeSeconds': '86400',\n",
      "                'node': 'topology/pod-1/node-1',\n",
      "                'refreshTimeoutSeconds': '600',\n",
      "                'remoteUser': 'false',\n",
      "                'restTimeoutSeconds': '90',\n",
      "                'sessionId': 'pYBirbEASIeyL9WnbT39EA==',\n",
      "                'siteFingerprint': 'EQOmXY+ByqJiFvug',\n",
      "                'token': 'aAAAAAAAAAAAAAAAAAAAAJhNZSsUcKARKKGovgUSdyFpEnTsu8lDsYT4Gcz8bo7d2q9xYPtZ8t0OO8BJWGpXrHwqDjRRWw1mbOKvs3t8V1F+4nLQCsq5PLqOH3c5Z07OLXXLRIvvTZABcr19XVRS1RKSyKRqgVFXHlSO3COlxfBl/nAXnPZq6Rd2ACvyps+0/3MG+RDux90hugdH+fSaNw==',\n",
      "                'unixUserId': '15374',\n",
      "                'userName': 'admin',\n",
      "                'version': '4.1(1k)'},\n",
      " 'children': [{'aaaUserDomain': {'attributes': {'name': 'all',\n",
      "                                                'rolesR': 'admin',\n",
      "                                                'rolesW': 'admin'},\n",
      "                                 'children': [{'aaaReadRoles': {'attributes': {}}},\n",
      "                                              {'aaaWriteRoles': {'attributes': {},\n",
      "                                                                 'children': [{'role': {'attributes': {'name': 'admin'}}}]}}]}},\n",
      "              {'DnDomainMapEntry': {'attributes': {'dn': 'uni/tn-infra',\n",
      "                                                   'readPrivileges': 'admin',\n",
      "                                                   'writePrivileges': 'admin'}}},\n",
      "              {'DnDomainMapEntry': {'attributes': {'dn': 'uni/tn-mgmt',\n",
      "                                                   'readPrivileges': 'admin',\n",
      "                                                   'writePrivileges': 'admin'}}},\n",
      "              {'DnDomainMapEntry': {'attributes': {'dn': 'uni/tn-common',\n",
      "                                                   'readPrivileges': 'admin',\n",
      "                                                   'writePrivileges': 'admin'}}}]}\n"
     ]
    }
   ],
   "source": [
    "pprint(json_response['imdata'][0]['aaaLogin'])"
   ]
  },
  {
   "cell_type": "markdown",
   "id": "0b2b5f57-257a-4e19-a985-dbbcb62d2d59",
   "metadata": {},
   "source": [
    "##### Step 6: Display the value for the `json_response['imdata'][0]['aaaLogin'][`attributes`]` dictionary key\n",
    "\n",
    "From the output in the previous step, we can see the next dictionary key to inspect is the `attributes` key.\n",
    "\n",
    "---\n"
   ]
  },
  {
   "cell_type": "code",
   "execution_count": 24,
   "id": "7641ce4c-d287-451d-a82a-666df80aa434",
   "metadata": {},
   "outputs": [
    {
     "name": "stdout",
     "output_type": "stream",
     "text": [
      "{'buildTime': 'Mon May 13 16:27:03 PDT 2019',\n",
      " 'changePassword': 'no',\n",
      " 'creationTime': '1624530631',\n",
      " 'firstLoginTime': '1624530631',\n",
      " 'firstName': '',\n",
      " 'guiIdleTimeoutSeconds': '1200',\n",
      " 'lastName': '',\n",
      " 'maximumLifetimeSeconds': '86400',\n",
      " 'node': 'topology/pod-1/node-1',\n",
      " 'refreshTimeoutSeconds': '600',\n",
      " 'remoteUser': 'false',\n",
      " 'restTimeoutSeconds': '90',\n",
      " 'sessionId': 'pYBirbEASIeyL9WnbT39EA==',\n",
      " 'siteFingerprint': 'EQOmXY+ByqJiFvug',\n",
      " 'token': 'aAAAAAAAAAAAAAAAAAAAAJhNZSsUcKARKKGovgUSdyFpEnTsu8lDsYT4Gcz8bo7d2q9xYPtZ8t0OO8BJWGpXrHwqDjRRWw1mbOKvs3t8V1F+4nLQCsq5PLqOH3c5Z07OLXXLRIvvTZABcr19XVRS1RKSyKRqgVFXHlSO3COlxfBl/nAXnPZq6Rd2ACvyps+0/3MG+RDux90hugdH+fSaNw==',\n",
      " 'unixUserId': '15374',\n",
      " 'userName': 'admin',\n",
      " 'version': '4.1(1k)'}\n"
     ]
    }
   ],
   "source": [
    "pprint(json_response['imdata'][0]['aaaLogin']['attributes'])"
   ]
  },
  {
   "cell_type": "markdown",
   "id": "de4fb374-99e6-4006-9e48-b091fa2f19c9",
   "metadata": {},
   "source": [
    "##### Step 7: Display the value for the `json_response['imdata'][0]['aaaLogin']['attributes']['token']` dictionary key\n",
    "\n",
    "We are down to the last level of this dictionary and we can display and/or use the `token` value from the APIC.\n",
    "\n",
    "---\n"
   ]
  },
  {
   "cell_type": "code",
   "execution_count": 25,
   "id": "daebd6b7-6641-4eaa-8996-b94dd4b3c531",
   "metadata": {},
   "outputs": [
    {
     "name": "stdout",
     "output_type": "stream",
     "text": [
      "'aAAAAAAAAAAAAAAAAAAAAJhNZSsUcKARKKGovgUSdyFpEnTsu8lDsYT4Gcz8bo7d2q9xYPtZ8t0OO8BJWGpXrHwqDjRRWw1mbOKvs3t8V1F+4nLQCsq5PLqOH3c5Z07OLXXLRIvvTZABcr19XVRS1RKSyKRqgVFXHlSO3COlxfBl/nAXnPZq6Rd2ACvyps+0/3MG+RDux90hugdH+fSaNw=='\n"
     ]
    }
   ],
   "source": [
    "pprint(json_response['imdata'][0]['aaaLogin']['attributes']['token'])"
   ]
  },
  {
   "cell_type": "markdown",
   "id": "759b02fc-60aa-437d-8571-af2b3d6d1976",
   "metadata": {},
   "source": [
    "### Part 4 Summary\n",
    "\n",
    "Often, during the code development process, it is necessary to step through complex objects, as we just did, in order to find the right syntax which extracts the specific data you need.  Fortunately, once you go through this process once, you can assign long object indices (like `json_response['imdata'][0]['aaaLogin']['attributes']['token']`) to a variable with a much shorter name (like `token`) in order to easily recall and reuse specific, significant data.\n",
    "\n",
    "---\n"
   ]
  }
 ],
 "metadata": {
  "kernelspec": {
   "display_name": "Python 3",
   "language": "python",
   "name": "python3"
  },
  "language_info": {
   "codemirror_mode": {
    "name": "ipython",
    "version": 3
   },
   "file_extension": ".py",
   "mimetype": "text/x-python",
   "name": "python",
   "nbconvert_exporter": "python",
   "pygments_lexer": "ipython3",
   "version": "3.9.4"
  }
 },
 "nbformat": 4,
 "nbformat_minor": 5
}
