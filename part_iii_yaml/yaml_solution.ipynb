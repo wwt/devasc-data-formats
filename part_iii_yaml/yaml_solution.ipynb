{
 "cells": [
  {
   "cell_type": "markdown",
   "metadata": {},
   "source": [
    "# Solution for YAML Structured Data\n"
   ]
  },
  {
   "cell_type": "markdown",
   "metadata": {},
   "source": [
    "---\n",
    "#### Step 1:\n"
   ]
  },
  {
   "cell_type": "code",
   "execution_count": null,
   "metadata": {},
   "outputs": [],
   "source": [
    "# Determine the local YAML file name\n",
    "\n",
    "# Import the OS module\n",
    "import os\n",
    "\n",
    "# List the contents of the current working directory\n",
    "print(os.listdir())\n",
    "\n",
    "# The name of the file is 'network_data.yaml'\n",
    "yaml_file = 'network_data.yaml'\n",
    "print(yaml_file)\n"
   ]
  },
  {
   "cell_type": "markdown",
   "metadata": {},
   "source": [
    "---\n",
    "#### Step 2:\n"
   ]
  },
  {
   "cell_type": "code",
   "execution_count": null,
   "metadata": {},
   "outputs": [],
   "source": [
    "# Import the YAML module\n",
    "import yaml\n"
   ]
  },
  {
   "cell_type": "markdown",
   "metadata": {},
   "source": [
    "---\n",
    "#### Step 3:\n"
   ]
  },
  {
   "cell_type": "code",
   "execution_count": null,
   "metadata": {},
   "outputs": [],
   "source": [
    "# Use the context manager to read the YAML file and convert the contents to a Python object\n",
    "with open(yaml_file, mode='rt', encoding='utf-8') as file:\n",
    "    yaml_data = file.read()\n",
    "    python_data = yaml.safe_load(yaml_data)\n",
    "\n",
    "# Display the type of the 'python_data' object\n",
    "type(python_data)\n"
   ]
  },
  {
   "cell_type": "markdown",
   "metadata": {},
   "source": [
    "---\n",
    "#### Step 4:\n"
   ]
  },
  {
   "cell_type": "code",
   "execution_count": null,
   "metadata": {},
   "outputs": [],
   "source": [
    "# Display the keys for the 'python_data' dictionary\n",
    "print(python_data.keys())\n",
    "\n",
    "# Display the sub-keys for the top-level 'python_data' dictionary key\n",
    "print(python_data['devices'].keys())\n"
   ]
  },
  {
   "cell_type": "markdown",
   "metadata": {},
   "source": [
    "---\n",
    "#### Step 5\n"
   ]
  },
  {
   "cell_type": "code",
   "execution_count": null,
   "metadata": {},
   "outputs": [],
   "source": [
    "# Loops over the 'python_data' subkeys and displays the contents for any keys named 'data'\n",
    "for host, attributes in python_data['devices'].items():\n",
    "    # The following line will result in an exception if the 'data' key isn't found in any iteration of the loop\n",
    "    # print(attributes['data'])\n",
    "\n",
    "    # Using 'get()' method  will, instead, silently skip any iterations which don't contain the 'data' key\n",
    "    # The 'get()' method also allows you to specify a default value when a key is not found (not shown here)\n",
    "    print(attributes.get('data'))"
   ]
  },
  {
   "cell_type": "markdown",
   "metadata": {},
   "source": [
    "---\n",
    "#### Step 6:\n"
   ]
  },
  {
   "cell_type": "code",
   "execution_count": null,
   "metadata": {},
   "outputs": [],
   "source": [
    "# Create a dictionary object for the 'nxos2' device \n",
    "nxos2 = {\n",
    "    'nxos2':{\n",
    "        'data': {\n",
    "            'role': 'distribution',\n",
    "            'site': 'atc56',\n",
    "            'type': 'network-device'\n",
    "        },\n",
    "        'groups': ['dna_3'],\n",
    "        'hostname': 'nxos2',\n",
    "        'platform': 'nxos',\n",
    "        'username': 'wwt',\n",
    "        'password': 'WWTwwt1!',\n",
    "        'port': '22'\n",
    "    }\n",
    "}\n",
    "\n",
    "# Display the contents of the 'nxos2' dictionary\n",
    "print(nxos2.items())\n"
   ]
  },
  {
   "cell_type": "markdown",
   "metadata": {},
   "source": [
    "---\n",
    "#### Step 7:\n"
   ]
  },
  {
   "cell_type": "code",
   "execution_count": null,
   "metadata": {},
   "outputs": [],
   "source": [
    "# Add the 'nxos2' dictionary to the 'python_data' dictionary\n",
    "python_data['devices'].update(nxos2)\n",
    "\n",
    "# Import the Pretty Print (**pprint**) function from the Pretty Print (**pprint**) module\n",
    "from pprint import pprint\n",
    "\n",
    "# Display the 'python_data dictionary - option #1\n",
    "pprint(python_data)\n",
    "\n",
    "# Display the 'python_data dictionary - option #2\n",
    "print(python_data.keys())\n",
    "\n",
    "# Display the 'python_data dictionary - option #3\n",
    "print(python_data.items())\n"
   ]
  },
  {
   "cell_type": "markdown",
   "metadata": {},
   "source": [
    "---\n",
    "#### Step 8\n"
   ]
  },
  {
   "cell_type": "code",
   "execution_count": null,
   "metadata": {},
   "outputs": [],
   "source": [
    "# Use the context manager to write a new YAML file with the YAML-converted contents of **python_data**\n",
    "with open('new_network_data.yaml', mode='wt', encoding='utf-8') as file:\n",
    "    new_yaml_data = yaml.safe_dump(python_data)\n",
    "    file.write(new_yaml_data)\n",
    "\n",
    "# List the contents of the current working directory\n",
    "print(os.listdir())\n"
   ]
  },
  {
   "cell_type": "code",
   "execution_count": null,
   "metadata": {},
   "outputs": [],
   "source": []
  }
 ],
 "metadata": {
  "kernelspec": {
   "display_name": "Python 3",
   "language": "python",
   "name": "python3"
  },
  "language_info": {
   "codemirror_mode": {
    "name": "ipython",
    "version": 3
   },
   "file_extension": ".py",
   "mimetype": "text/x-python",
   "name": "python",
   "nbconvert_exporter": "python",
   "pygments_lexer": "ipython3",
   "version": "3.7.8"
  }
 },
 "nbformat": 4,
 "nbformat_minor": 4
}
