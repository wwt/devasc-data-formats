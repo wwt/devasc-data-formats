{
 "cells": [
  {
   "cell_type": "markdown",
   "metadata": {},
   "source": [
    "# YAML Structured Data\n",
    "---\n",
    "## Overview\n",
    "This exercise will familiarize you with:\n",
    "1. Loading YAML data into Python.\n",
    "2. Modifying the data using Python.\n",
    "3. Writing the updated data to a new YAML file.\n"
   ]
  },
  {
   "cell_type": "markdown",
   "metadata": {},
   "source": [
    "---\n",
    "#### Step 1:\n",
    "* A YAML file with network device data is available in the local file system.\n",
    "* Use what you learned in the Python exercise to determine the name of the file.\n",
    "  * \\*\\*Hint - use the **os** module\\*\\*\n",
    "* Once you determine the name of the YAML file, assign it to a variable named **yaml_file**.\n",
    "\n",
    "**If you get stuck, open the Jupyter Notebook *yaml_solution.ipynb* for help**\n"
   ]
  },
  {
   "cell_type": "code",
   "execution_count": null,
   "metadata": {},
   "outputs": [],
   "source": [
    "# Type your commands below this line & click the 'run' button to execute the code\n",
    "# command goes here\n",
    "# command goes here\n",
    "\n",
    "yaml_file = # command goes here"
   ]
  },
  {
   "cell_type": "markdown",
   "metadata": {},
   "source": [
    "---\n",
    "#### Step 2:\n",
    "* The Python Standard Library does not include the **PyYAML** module although the *wwt01/alpine-network-dev* Docker image has the **PyYAML** module available.\n",
    "* The the **PyYAML** module which will allow us to:\n",
    "  * Convert YAML data to Python objects.\n",
    "  * Convert Python objects to YAML data.\n",
    "* The code block below will import the **PyYAML** module.\n",
    "  * You won't see any output from the *import yaml* command although subsequent commands will display interactive output."
   ]
  },
  {
   "cell_type": "code",
   "execution_count": null,
   "metadata": {},
   "outputs": [],
   "source": [
    "# Click the 'run' button to execute the code\n",
    "import yaml\n"
   ]
  },
  {
   "cell_type": "markdown",
   "metadata": {},
   "source": [
    "---\n",
    "#### Step 3:\n",
    "* Let's read the YAML data from the file into Python.\n",
    "* Just as in the Python exercise, we will use the Python context manager to read data from a file.\n",
    "* Use what you learned in the Python exercise to create the code block to read the YAML file.\n",
    "  * Assign the name **file** to your context manager variable.\n",
    "  * \\*\\*Hint - use the **with** keyword and the **open()** function\\*\\*\n",
    "* The code block below already contains lines for your context manager block which:\n",
    "  1. Call the **file.read()** function to read the YAML file and store the contents in the **yaml_data** variable.\n",
    "  2. Call the *Safe Loader* (**safe_load()**) function from the PyYAML module on the **yaml_data** variable.\n",
    "    * The **safe_load()** function converts YAML text to a Python object.\n",
    "  3. Assign the converted YAML data to a variable named **python_data**.\n",
    "  4. Use the **type** function to display the object type for the **python_data** variable\n",
    "\n",
    "**If you get stuck, open the Jupyter Notebook *yaml_solution.ipynb* for help**\n"
   ]
  },
  {
   "cell_type": "code",
   "execution_count": null,
   "metadata": {},
   "outputs": [],
   "source": [
    "# Type your command below this line & click the 'run' button to execute the code\n",
    "# command goes here\n",
    "    yaml_data = file.read()\n",
    "    python_data = yaml.safe_load(yaml_data)\n",
    "\n",
    "type(python_data)\n"
   ]
  },
  {
   "cell_type": "markdown",
   "metadata": {},
   "source": [
    "---\n",
    "#### Step 4:\n",
    "* Let's explore the YAML data in our Python object (in the **python_data** variable).\n",
    "* We know the **python_data** object is a dictionary so let's first explore the keys to understand how we can explore further.\n",
    "* Use what you learned in the JSON exercise to determine the keys in the **python_data** dictionary.\n",
    "  * \\*\\*Hint - use the **keys()** dictionary method\\*\\*\n",
    "* Once you know the key in the **python_data** dictionary, use the same dictionary method to find the sub-keys of the top-level key you just discovered.\n",
    "\n",
    "**If you get stuck, open the Jupyter Notebook *yaml_solution.ipynb* for help**\n"
   ]
  },
  {
   "cell_type": "code",
   "execution_count": null,
   "metadata": {},
   "outputs": [],
   "source": [
    "# Type your commands below this line & click the 'run' button to execute the code\n",
    "# command goes here\n",
    "# command goes here\n"
   ]
  },
  {
   "cell_type": "markdown",
   "metadata": {},
   "source": [
    "---\n",
    "#### Step 5:\n",
    "* Sometimes, it is necessary to use a loop to iterate over dictionary keys and values to display information.\n",
    "* We can iterate over both dictionary keys and values within the same loop using the **items()** dictionary method.\n",
    "* The code block below:\n",
    "  1. Loops over the sub-keys in the **python_data** dictionary with the **items()** dictionary method.\n",
    "  2. Uses the dictionary **get()** method to search keys with the name **data**.\n",
    "    * The **get()** method prevents Python from raising an exception in the event the **data** key isn't found.\n",
    "    * See the inline comments for details.\n",
    "  3. Displays the contents of any kets named **data**.\n"
   ]
  },
  {
   "cell_type": "code",
   "execution_count": null,
   "metadata": {},
   "outputs": [],
   "source": [
    "# Click the 'run' button to execute the code\n",
    "for host, attributes in python_data['devices'].items():\n",
    "    # The following line will result in an exception if the 'data' key isn't found in any iteration of the loop\n",
    "    print(attributes['data'])\n",
    "\n",
    "    # Using 'get()' method  will, instead, silently skip any iterations which don't contain the 'data' key\n",
    "    # The 'get()' method also allows you to specify a default value when a key is not found (not shown here)\n",
    "    print(attributes.get('data'))\n"
   ]
  },
  {
   "cell_type": "markdown",
   "metadata": {},
   "source": [
    "---\n",
    "#### Step 6:\n",
    "* We need to add another network device to the **python_data** dictionary so we can create an updated YAML file.\n",
    "* The code block below:\n",
    "  1. Creates a dictionary object named **nxos2** with the relevant network device details.\n",
    "  2. Uses the dictionary **items()** method to display the dictionary data.\n"
   ]
  },
  {
   "cell_type": "code",
   "execution_count": null,
   "metadata": {},
   "outputs": [],
   "source": [
    "# Click the 'run' button to execute this code\n",
    "nxos2 = {\n",
    "    'nxos2':{\n",
    "        'data': {\n",
    "            'role': 'distribution',\n",
    "            'site': 'atc56',\n",
    "            'type': 'network-device'\n",
    "        },\n",
    "        'groups': ['dna_3'],\n",
    "        'hostname': 'nxos2',\n",
    "        'platform': 'nxos',\n",
    "        'username': 'wwt',\n",
    "        'password': 'WWTwwt1!',\n",
    "        'port': '22'\n",
    "    }\n",
    "}\n",
    "\n",
    "print(nxos2.items())\n"
   ]
  },
  {
   "cell_type": "markdown",
   "metadata": {},
   "source": [
    "---\n",
    "#### Step 7:\n",
    "* Before we can create an updated YAML file, we need to add the contents of the **nxos2** dictionary to the **python_data** dictionary.\n",
    "  * In order to preserve the dictionary format, we need to add the **nxos2** dictionary to the **devices** sub-key, not as a new, top-level dictionary key.\n",
    "* Use what you learned in the Python & JSON exercises to:\n",
    "  1. Add the contents of the **nxos2** dictionary to the **python_data** dictionary **devices** sub-key.\n",
    "    * \\*\\*Hint - use the dictionary **update** method\\*\\*\n",
    "  2. Display the contents of the **python_data** dictionary to confirm the **nxos2** data is present.\n",
    "    * There are several ways to perform this action.\n",
    "\n",
    "**If you get stuck, open the Jupyter Notebook *yaml_solution.ipynb* for help**\n"
   ]
  },
  {
   "cell_type": "code",
   "execution_count": null,
   "metadata": {},
   "outputs": [],
   "source": [
    "# Type your commands below this line & click the 'run' button to execute the code\n",
    "# command goes here\n",
    "# command goes here\n"
   ]
  },
  {
   "cell_type": "markdown",
   "metadata": {},
   "source": [
    "---\n",
    "#### Step 8:\n",
    "* It's time to create a new YAML file with our modified network device data\n",
    "* Just as in the Python exercise, we will use the Python context manager to write data to a new file.\n",
    "* Use what you learned in the Python exercise to create the code block to write a new YAML file.\n",
    "  * The name of the new file should be **new_network_data.yaml**.\n",
    "  * Assign the name **file** to your context manager variable.\n",
    "  * \\*\\*Hint - use the **with** keyword and the **open()** function\\*\\*\n",
    "* The code block below already contains lines for your context manager block which:\n",
    "  1. Call the *Safe Dump* (**safe_dump()**) function from the PyYAML module on the **python_data** variable and assign the result to the new variable **new_yaml_data**.\n",
    "    * The **safe_dump()** function converts a Python dictionary to a YAML string.\n",
    "  2. Call the **file.write()** function to write the YAML file to the local file system.\n",
    "* Use what you learned in the Python exercise to list the contents of the current working directory.\n",
    "  * Confirm the file **new_network_data.yaml** exists.\n",
    "\n",
    "**If you get stuck, open the Jupyter Notebook *yaml_solution.ipynb* for help**\n"
   ]
  },
  {
   "cell_type": "code",
   "execution_count": null,
   "metadata": {},
   "outputs": [],
   "source": [
    "# Type your commands below this line & click the 'run' button to execute the code\n",
    "# command goes here\n",
    "    new_yaml_data = yaml.safe_dump(python_data)\n",
    "    file.write(new_yaml_data)\n",
    "\n",
    "# command goes here\n"
   ]
  },
  {
   "cell_type": "markdown",
   "metadata": {},
   "source": [
    "---\n",
    "#### Step 9:\n",
    "* Open the the new YAML file to confirm it contains the correct contents\n",
    "  * You may open the file using Jupyter, your code editor, your local file system, etc.\n"
   ]
  },
  {
   "cell_type": "code",
   "execution_count": null,
   "metadata": {},
   "outputs": [],
   "source": [
    "# Click the 'run' button to execute this code\n",
    "from pprint import pprint\n",
    "\n",
    "pprint(devices)\n"
   ]
  },
  {
   "cell_type": "markdown",
   "metadata": {},
   "source": [
    "---\n",
    "#### Exercise Complete:\n",
    "* Great work!  You finished this exercise and you can move on to working with structured YAML data.\n"
   ]
  },
  {
   "cell_type": "markdown",
   "metadata": {},
   "source": [
    "---\n",
    "#### Navigation\n",
    "* [Home](../README.md)\n",
    "* [Exercise 1 - Python Objects & File Management](../part_i_python/python.ipynb)\n",
    "* [Exercise 2 - JSON Structured Data](../part_ii_json/json.ipynb)\n",
    "* **Exercise 3 - YAML Structured Data**\n",
    "* [Exercise 4 - XML Structured Data](../part_iv_xml/xml.ipynb)"
   ]
  },
  {
   "cell_type": "code",
   "execution_count": null,
   "metadata": {},
   "outputs": [],
   "source": []
  }
 ],
 "metadata": {
  "kernelspec": {
   "display_name": "Python 3",
   "language": "python",
   "name": "python3"
  },
  "language_info": {
   "codemirror_mode": {
    "name": "ipython",
    "version": 3
   },
   "file_extension": ".py",
   "mimetype": "text/x-python",
   "name": "python",
   "nbconvert_exporter": "python",
   "pygments_lexer": "ipython3",
   "version": "3.8.2"
  }
 },
 "nbformat": 4,
 "nbformat_minor": 4
}
