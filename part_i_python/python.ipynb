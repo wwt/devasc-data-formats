{
 "cells": [
  {
   "cell_type": "markdown",
   "metadata": {},
   "source": [
    "# Python Objects & File Management\n",
    "---\n",
    "## Overview\n",
    "This exercise will familiarize you with:\n",
    "1. Interacting with the local file system.\n",
    "2. Writing and reading from text files.\n",
    "2. Creating and manipulating lists.\n",
    "3. Using a loop to create a dictionary with list data.\n",
    "4. Displaying Python objects in a friendly format.\n"
   ]
  },
  {
   "cell_type": "markdown",
   "metadata": {},
   "source": [
    "---\n",
    "### Task 1 - File System Interaction\n",
    "#### Step 1:\n",
    "* Before we write and read files from the local OS, let's explore the file system.\n",
    "* The Python Standard Library includes the **os** module which can interact with the local file system.\n",
    "* Use the code block below to import the **os** module with the command `import os`\n",
    "* After you enter the command, click the *run* button (the triangle icon) in the toolbar.\n",
    "  * The *run* button executes the code block.\n",
    "  * You won't see any output with the *import os* command although subsequent commands will display interactive output.\n"
   ]
  },
  {
   "cell_type": "code",
   "execution_count": null,
   "metadata": {},
   "outputs": [],
   "source": [
    "# Click the 'run' button to execute the code\n",
    "import os\n"
   ]
  },
  {
   "cell_type": "markdown",
   "metadata": {},
   "source": [
    "---\n",
    "#### Step 2:\n",
    "* Now that the **os** module is available, let's determine the current working directory.\n",
    "* The **getcwd()** function in the **os** module will display the current working directory.\n",
    "* Type the command `os.getcwd()` in the code block below.\n",
    "  * The current working directory will display below the code block"
   ]
  },
  {
   "cell_type": "code",
   "execution_count": null,
   "metadata": {},
   "outputs": [],
   "source": [
    "# Click the 'run' button to execute the code\n",
    "os.getcwd()\n"
   ]
  },
  {
   "cell_type": "markdown",
   "metadata": {},
   "source": [
    "---\n",
    "#### Step 3:\n",
    "* Now that you know the current working directory, list the files in that directory.\n",
    "* The **listdir()** function in the **os** will return a list object with the files in the current working directory\n",
    "* The command is `os.listdir()`"
   ]
  },
  {
   "cell_type": "code",
   "execution_count": null,
   "metadata": {},
   "outputs": [],
   "source": [
    "# Type your commands below this line & click the 'run' button to execute the code\n",
    "os.listdir()\n"
   ]
  },
  {
   "cell_type": "markdown",
   "metadata": {},
   "source": [
    "---\n",
    "#### Step 4:\n",
    "* We are able to see our directory contents, that's a good start.\n",
    "* Now, let's create a new file with a text string that contains router host names.\n",
    "* The code block below assigns a text string to a variable named **hosts** and prints the string.\n",
    "  * You can modify this string if you like, just keep the format intact (host names separated by spaces)\n"
   ]
  },
  {
   "cell_type": "code",
   "execution_count": null,
   "metadata": {},
   "outputs": [],
   "source": [
    "# Click the 'run' button to execute this code\n",
    "hosts = 'rtr_1 rtr_2 rtr_3'\n",
    "print(hosts)\n"
   ]
  },
  {
   "cell_type": "markdown",
   "metadata": {},
   "source": [
    "---\n",
    "#### Step 5:\n",
    "* Now, we have a string to write to a file.\n",
    "* To create the file, use the keyword **with** to invoke the Python context manager.\n",
    "  * The context manager will automatically close the file after a read or write operation.\n",
    "* The code block below:\n",
    "  1. Uses the **open()** function to perform file interaction.\n",
    "  2. The first argument of the **open()** function is the name of the file, *python_data.py*.\n",
    "  3. The second argument of the **open()** function is the file operation; *w* writes a new file.\n",
    "  4. The **as** keyword assigns a variable name to the function.\n",
    "  5. Inside the **with** block, the command `file.write(hosts)` writes the file to disk with the contents of the **hosts** variable.\n",
    "  6. After the **with** block, the **os.listdir()** function will display the updated list of files in the directory.\n",
    "    * Look for the file *python_data.py* in the output.\n"
   ]
  },
  {
   "cell_type": "code",
   "execution_count": null,
   "metadata": {},
   "outputs": [],
   "source": [
    "# Click the 'run' button to execute this code\n",
    "with open('python_data.py', 'w') as file:\n",
    "    file.write(hosts)\n",
    "\n",
    "os.listdir()\n"
   ]
  },
  {
   "cell_type": "markdown",
   "metadata": {},
   "source": [
    "---\n",
    "#### Step 6:\n",
    "* Let's read the contents of our file back into Python and assign it to a new variable.\n",
    "* Once again, we use the keyword **with** to invoke the Python context manager although this time we will read an existing file.\n",
    "* The code block below is similar to the previous file operation with the following differences:\n",
    "  1. The second argument of the **open()** function is now *r* which reads an existing file.\n",
    "  2. Inside the **with** block, the command `data = file.read()` reads the file contents and assigns those contents to a variable named **data**.\n",
    "  3. The **data.split()** expression converts the string of data read from the file into a list object.\n",
    "    * With no argument, the string **split** method uses the blank space in between words as the split delimiter.\n",
    "  4. The **routers** variable now contains the list object.\n",
    "    * After the **with** block, the **print()** function will display the **routers** variable contents.\n",
    "    * The **type()** function will output the data type of the **routers** variable, confirming the object is a list.\n"
   ]
  },
  {
   "cell_type": "code",
   "execution_count": null,
   "metadata": {},
   "outputs": [],
   "source": [
    "# Click the 'run' button to execute this code\n",
    "with open('python_data.py', 'r') as file:\n",
    "    data = file.read()\n",
    "    routers = data.split()\n",
    "\n",
    "print(routers)\n",
    "type(routers)\n"
   ]
  },
  {
   "cell_type": "markdown",
   "metadata": {},
   "source": [
    "---\n",
    "#### Step 7:\n",
    "* Let's add the host name for a new router to the **routers** list object.\n",
    "* The code block below:\n",
    "  1. Assigns the string **rtr_4** to the **new_router** variable.\n",
    "  2. Checks to see if the new router host name is already in the **routers** list.\n",
    "    * If not, the **append()** list method adds the new host name to the **routers** list.\n",
    "  3. Displays the contents of the **routers** list.\n"
   ]
  },
  {
   "cell_type": "code",
   "execution_count": null,
   "metadata": {},
   "outputs": [],
   "source": [
    "# Click the 'run' button to execute this code\n",
    "new_router = 'rtr_4'\n",
    "\n",
    "if new_router not in routers:\n",
    "    routers.append(new_router)\n",
    "\n",
    "print(routers)\n"
   ]
  },
  {
   "cell_type": "markdown",
   "metadata": {},
   "source": [
    "---\n",
    "#### Step 8:\n",
    "* Now, let's use the data in the **routers** list to create a new dictionary object.\n",
    "* The code block below:\n",
    "  1. Creates a new, blank dictionary named **devices**.\n",
    "  2. Uses a *for* loop to iterate over each object in the **routers** list. \n",
    "  3. The loop uses the dictionary **update()** method to:\n",
    "    * Creates a new key, named for each router hostname.\n",
    "    * Sets the value of each dictionary key to a new dictionary with the key/value pair `{'type': 'router'}`\n",
    "  4. Displays the contents of the **devices** dictionary.\n"
   ]
  },
  {
   "cell_type": "code",
   "execution_count": null,
   "metadata": {},
   "outputs": [],
   "source": [
    "# Click the 'run' button to execute this code\n",
    "devices = {}\n",
    "\n",
    "for router in routers:\n",
    "    devices.update(\n",
    "        {\n",
    "            router: {'type': 'router'}\n",
    "        }\n",
    "    )\n",
    "\n",
    "print(devices)\n"
   ]
  },
  {
   "cell_type": "markdown",
   "metadata": {},
   "source": [
    "---\n",
    "#### Step 9:\n",
    "* The **print()** function output for lengthy Python objects can be difficult to read, because the output lacks line breaks and indents.\n",
    "* The Python Standard Library includes a Pretty Print module which can make the output easier to read.\n",
    "* The code block below:\n",
    "  1. Imports the **pprint()** function from the **pprint** module.\n",
    "  2. Uses the **pprint()** function to display the **devices** dictionary in a more friendly format.\n"
   ]
  },
  {
   "cell_type": "code",
   "execution_count": null,
   "metadata": {},
   "outputs": [],
   "source": [
    "# Click the 'run' button to execute this code\n",
    "from pprint import pprint\n",
    "\n",
    "pprint(devices)\n"
   ]
  },
  {
   "cell_type": "markdown",
   "metadata": {},
   "source": [
    "---\n",
    "#### Exercise Complete:\n",
    "* Great work!  You finished this exercise and you can move on to working with structured data, starting with JSON.\n"
   ]
  },
  {
   "cell_type": "code",
   "execution_count": null,
   "metadata": {},
   "outputs": [],
   "source": []
  }
 ],
 "metadata": {
  "kernelspec": {
   "display_name": "Python 3",
   "language": "python",
   "name": "python3"
  },
  "language_info": {
   "codemirror_mode": {
    "name": "ipython",
    "version": 3
   },
   "file_extension": ".py",
   "mimetype": "text/x-python",
   "name": "python",
   "nbconvert_exporter": "python",
   "pygments_lexer": "ipython3",
   "version": "3.8.2"
  }
 },
 "nbformat": 4,
 "nbformat_minor": 4
}
