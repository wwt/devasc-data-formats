{
 "cells": [
  {
   "cell_type": "markdown",
   "metadata": {},
   "source": [
    "# Solution for JSON Structured Data\n"
   ]
  },
  {
   "cell_type": "markdown",
   "metadata": {},
   "source": [
    "---\n",
    "#### Step 1:\n"
   ]
  },
  {
   "cell_type": "code",
   "execution_count": null,
   "metadata": {},
   "outputs": [],
   "source": [
    "# Determine the local JSON file name\n",
    "\n",
    "# Import the OS module\n",
    "import os\n",
    "\n",
    "# List the contents of the current working directory\n",
    "print(os.listdir())\n",
    "\n",
    "# The name of the file is 'network_data.json'\n",
    "json_file = 'network_data.json'\n",
    "\n",
    "print(json_file)\n"
   ]
  },
  {
   "cell_type": "markdown",
   "metadata": {},
   "source": [
    "---\n",
    "#### Step 2:\n"
   ]
  },
  {
   "cell_type": "code",
   "execution_count": null,
   "metadata": {},
   "outputs": [],
   "source": [
    "# Import the JSON module\n",
    "import json\n"
   ]
  },
  {
   "cell_type": "markdown",
   "metadata": {},
   "source": [
    "---\n",
    "#### Step 3:\n"
   ]
  },
  {
   "cell_type": "code",
   "execution_count": null,
   "metadata": {},
   "outputs": [],
   "source": [
    "# Use the context manager to read the JSON file and convert the contents to a Python object\n",
    "with open(json_file, mode='rt', encoding='utf-8') as file:\n",
    "    json_data = file.read()\n",
    "    python_data = json.loads(json_data)\n",
    "\n",
    "# Display the type of the 'python_data' object\n",
    "type(python_data)\n"
   ]
  },
  {
   "cell_type": "markdown",
   "metadata": {},
   "source": [
    "---\n",
    "#### Step 4:\n"
   ]
  },
  {
   "cell_type": "code",
   "execution_count": null,
   "metadata": {},
   "outputs": [],
   "source": [
    "# Import the Pretty Print (**pprint**) function from the Pretty Print (**pprint**) module\n",
    "from pprint import pprint\n",
    "\n",
    "# Use Pretty Print to Display the 'python_data' object\n",
    "pprint(python_data)\n"
   ]
  },
  {
   "cell_type": "markdown",
   "metadata": {},
   "source": [
    "---\n",
    "#### Step 5:\n"
   ]
  },
  {
   "cell_type": "code",
   "execution_count": null,
   "metadata": {},
   "outputs": [],
   "source": [
    "# Create a dictionary object for the 'nxos2' device \n",
    "nxos2 = {\n",
    "    'nxos2':{\n",
    "        'data': {\n",
    "            'role': 'distribution',\n",
    "            'site': 'atc56',\n",
    "            'type': 'network-device'\n",
    "        },\n",
    "        'groups': ['dna_3'],\n",
    "        'hostname': 'nxos2',\n",
    "        'platform': 'nxos',\n",
    "        'username': 'wwt',\n",
    "        'password': 'WWTwwt1!',\n",
    "        'port': '22'\n",
    "    }\n",
    "}\n",
    "\n",
    "# Display the contents of the 'nxos2' dictionary\n",
    "print(nxos2.items())\n"
   ]
  },
  {
   "cell_type": "markdown",
   "metadata": {},
   "source": [
    "---\n",
    "#### Step 6:\n"
   ]
  },
  {
   "cell_type": "code",
   "execution_count": null,
   "metadata": {},
   "outputs": [],
   "source": [
    "# Add the 'nxos2' dictionary to the 'python_data' dictionary\n",
    "python_data.update(nxos2)\n",
    "\n",
    "# Display the 'python_data dictionary - option #1\n",
    "pprint(python_data)\n",
    "\n",
    "# Display the 'python_data dictionary - option #2\n",
    "print(python_data.keys())\n",
    "\n",
    "# Display the 'python_data dictionary - option #3\n",
    "print(python_data.items())\n"
   ]
  },
  {
   "cell_type": "markdown",
   "metadata": {},
   "source": [
    "---\n",
    "#### Step 7\n"
   ]
  },
  {
   "cell_type": "code",
   "execution_count": null,
   "metadata": {},
   "outputs": [],
   "source": [
    "# Assign the contents of the 'python_data' dictionary to the 'devices' key of a new 'python_data'\n",
    "python_data = {'devices': python_data}\n",
    "\n",
    "# Display the contents of the new 'python_data' dictionary\n",
    "pprint(python_data)\n"
   ]
  },
  {
   "cell_type": "markdown",
   "metadata": {},
   "source": [
    "---\n",
    "#### Step 8\n"
   ]
  },
  {
   "cell_type": "code",
   "execution_count": null,
   "metadata": {},
   "outputs": [],
   "source": [
    "# Use the context manager to write a new JSON file with the JSON-converted contents of **python_data**\n",
    "with open('new_network_data.json', more='wt', encoding='utf-8') as file:\n",
    "    new_json_data = json.dumps(python_data, indent=2)\n",
    "    file.write(new_json_data)\n",
    "\n",
    "# List the contents of the current working directory\n",
    "print(os.listdir())\n"
   ]
  },
  {
   "cell_type": "code",
   "execution_count": null,
   "metadata": {},
   "outputs": [],
   "source": []
  }
 ],
 "metadata": {
  "kernelspec": {
   "display_name": "Python 3",
   "language": "python",
   "name": "python3"
  },
  "language_info": {
   "codemirror_mode": {
    "name": "ipython",
    "version": 3
   },
   "file_extension": ".py",
   "mimetype": "text/x-python",
   "name": "python",
   "nbconvert_exporter": "python",
   "pygments_lexer": "ipython3",
   "version": "3.8.2"
  }
 },
 "nbformat": 4,
 "nbformat_minor": 4
}