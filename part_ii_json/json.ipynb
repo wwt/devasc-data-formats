{
 "cells": [
  {
   "cell_type": "markdown",
   "metadata": {},
   "source": [
    "# JSON Structured Data\n",
    "---\n",
    "## Overview\n",
    "This exercise will familiarize you with:\n",
    "1. Loading JSON data into Python.\n",
    "2. Modifying the data using Python.\n",
    "3. Writing the updated data to a new JSON file.\n"
   ]
  },
  {
   "cell_type": "markdown",
   "metadata": {},
   "source": [
    "---\n",
    "#### Step 1:\n",
    "* A JSON file with network device data is available in the local file system.\n",
    "* Use what you learned in the Python exercise to determine the name of the file.\n",
    "  * \\*\\*Hint - use the **os** module\\*\\*\n",
    "* Once you determine the name of the JSON file, assign it to a variable named **json_file**.\n",
    "\n",
    "**If you get stuck, open the Jupyter Notebook *json_solution.ipynb* for help**\n"
   ]
  },
  {
   "cell_type": "code",
   "execution_count": null,
   "metadata": {},
   "outputs": [],
   "source": [
    "# Type your commands below this line & click the 'run' button to execute the code\n",
    "# command goes here\n",
    "# command goes here\n",
    "\n",
    "json_file = # command ggoes here"
   ]
  },
  {
   "cell_type": "markdown",
   "metadata": {},
   "source": [
    "---\n",
    "#### Step 2:\n",
    "* The Python Standard Library includes the **json** module which will allow us to:\n",
    "  * Convert JSON data to Python objects.\n",
    "  * Convert Python objects to JSON data.\n",
    "* The code block below will import the **json** module.\n",
    "  * You won't see any output from the *import json* command although subsequent commands will display interactive output."
   ]
  },
  {
   "cell_type": "code",
   "execution_count": null,
   "metadata": {},
   "outputs": [],
   "source": [
    "# Click the 'run' button to execute the code\n",
    "import json\n"
   ]
  },
  {
   "cell_type": "markdown",
   "metadata": {},
   "source": [
    "---\n",
    "#### Step 3:\n",
    "* Let's read the JSON data from the file into Python.\n",
    "* Just as in the Python exercise, we will use the Python context manager to read data from a file.\n",
    "* Use what you learned in the Python exercise to create the code block to read the JSON file.\n",
    "  * Assign the name **file** to your context manager variable.\n",
    "  * \\*\\*Hint - use the **with** keyword and the **open()** function\\*\\*\n",
    "* The code block below already contains lines for your context manager block which:\n",
    "  1. Call the **file.read()** function to read the JSON file and store the contents in the **json_data** variable.\n",
    "  2. Call the *Load String* (**loads()**) function from the JSON module on the **json_data** variable.\n",
    "    * The **loads()** function converts JSON text to a Python dictionary.\n",
    "  3. Assign the converted JSON data to a variable named **python_data**.\n",
    "  4. Use the **type** function to display the object type for the **python_data** variable\n",
    "\n",
    "**If you get stuck, open the Jupyter Notebook *json_solution.ipynb* for help**\n"
   ]
  },
  {
   "cell_type": "code",
   "execution_count": null,
   "metadata": {},
   "outputs": [],
   "source": [
    "# Type your command below this line & click the 'run' button to execute the code\n",
    "# command goes here\n",
    "    json_data = file.read()\n",
    "    python_data = json.loads(json_data)\n",
    "\n",
    "type(python_data)\n"
   ]
  },
  {
   "cell_type": "markdown",
   "metadata": {},
   "source": [
    "---\n",
    "#### Step 4:\n",
    "* Let's explore the JSON data in our Python object (in the **python_data** variable).\n",
    "* Use what you learned in the Python exercise to display the data in a more readable format than the **print()** function displays.\n",
    "  * \\*\\*Hint - use the **pprint** module\\*\\*\n",
    "\n",
    "**If you get stuck, open the Jupyter Notebook *json_solution.ipynb* for help**\n"
   ]
  },
  {
   "cell_type": "code",
   "execution_count": null,
   "metadata": {},
   "outputs": [],
   "source": [
    "# Type your commands below this line & click the 'run' button to execute the code\n",
    "# command goes here\n",
    "# command goes here\n"
   ]
  },
  {
   "cell_type": "markdown",
   "metadata": {},
   "source": [
    "---\n",
    "#### Step 5:\n",
    "* We need to add another network device to the **python_data** dictionary so we can create an updated JSON file.\n",
    "* The code block below:\n",
    "  1. Creates a dictionary object named **nxos2** with the relevant network device details.\n",
    "  2. Uses the dictionary **items()** method to display the dictionary data.\n"
   ]
  },
  {
   "cell_type": "code",
   "execution_count": null,
   "metadata": {},
   "outputs": [],
   "source": [
    "# Click the 'run' button to execute this code\n",
    "nxos2 = {\n",
    "    'nxos2':{\n",
    "        'data': {\n",
    "            'role': 'distribution',\n",
    "            'site': 'atc56',\n",
    "            'type': 'network-device'\n",
    "        },\n",
    "        'groups': ['dna_3'],\n",
    "        'hostname': 'nxos2',\n",
    "        'platform': 'nxos',\n",
    "        'username': 'wwt',\n",
    "        'password': 'WWTwwt1!',\n",
    "        'port': '22'\n",
    "    }\n",
    "}\n",
    "\n",
    "print(nxos2.items())\n"
   ]
  },
  {
   "cell_type": "markdown",
   "metadata": {},
   "source": [
    "---\n",
    "#### Step 6:\n",
    "* Before we can create an updated JSON file, we need to add the contents of the **nxos2** dictionary to the **python_data** dictionary.\n",
    "* Use what you learned in the Python exercise to:\n",
    "  1. Add the contents of the **nxos2** dictionary to the **python_data** dictionary.\n",
    "    * \\*\\*Hint - use the dictionary **update** method\\*\\*\n",
    "  2. Display the contents of the **python_data** dictionary to confirm the **nxos2** data is present.\n",
    "    * There are several ways to perform this action.\n",
    "\n",
    "**If you get stuck, open the Jupyter Notebook *json_solution.ipynb* for help**\n"
   ]
  },
  {
   "cell_type": "code",
   "execution_count": null,
   "metadata": {},
   "outputs": [],
   "source": [
    "# Type your commands below this line & click the 'run' button to execute the code\n",
    "# command goes here\n",
    "# command goes here\n"
   ]
  },
  {
   "cell_type": "markdown",
   "metadata": {},
   "source": [
    "---\n",
    "#### Step 7:\n",
    "* Sometimes, depending on the system that will eventually consume our structured data, it is necessary to format data in a specific way.\n",
    "* In this case, our entire dictionary objet must be the value of a top-level dictionary key named, **devices**.\n",
    "* The code block below:\n",
    "  1. Assigns the contents of the **python_data** dictionary to the **devices** key of a new dictionary named **python_data**.\n",
    "    * The new **python_data** dictionary replaces the previous contents of the **python_data** variable.\n",
    "  2. Displays the contents of the new **python_data** dictionary.\n",
    "    * Notice the new, top-level **devices** key\n"
   ]
  },
  {
   "cell_type": "code",
   "execution_count": null,
   "metadata": {},
   "outputs": [],
   "source": [
    "# Click the 'run' button to execute this code\n",
    "python_data = {'devices': python_data}\n",
    "\n",
    "pprint(python_data)\n"
   ]
  },
  {
   "cell_type": "markdown",
   "metadata": {},
   "source": [
    "---\n",
    "#### Step 8:\n",
    "* It's time to create a new JSON file with our modified network device data\n",
    "* Just as in the Python exercise, we will use the Python context manager to write data to a new file.\n",
    "* Use what you learned in the Python exercise to create the code block to write a new JSON file.\n",
    "  * The name of the new file should be **new_network_data.json**.\n",
    "  * Assign the name **file** to your context manager variable.\n",
    "  * \\*\\*Hint - use the **with** keyword and the **open()** function\\*\\*\n",
    "* The code block below already contains lines for your context manager block which:\n",
    "  1. Call the *Dump String* (**dumps()**) function from the JSON module on the **python_data** variable and assign the result to the new variable **new_json_data**.\n",
    "    * The **dumps()** function converts a Python dictionary to a JSON string.\n",
    "    * The keyword argument **indent** and its value **2** will render the file in an easily readable, tabbed format.\n",
    "  2. Call the **file.write()** function to write the JSON file to the local file system.\n",
    "* Use what you learned in the first exercise to list the contents of the current working directory.\n",
    "  * Confirm the file **new_network_data.json** exists.\n",
    "\n",
    "**If you get stuck, open the Jupyter Notebook *json_solution.ipynb* for help**\n"
   ]
  },
  {
   "cell_type": "code",
   "execution_count": null,
   "metadata": {},
   "outputs": [],
   "source": [
    "# Type your commands below this line & click the 'run' button to execute the code\n",
    "# command goes here\n",
    "    new_json_data = json.dumps(python_data, indent=2)\n",
    "    file.write(new_json_data)\n",
    "\n",
    "# command goes here\n"
   ]
  },
  {
   "cell_type": "markdown",
   "metadata": {},
   "source": [
    "---\n",
    "#### Step 9:\n",
    "* Open the the new JSON file to confirm it contains the correct contents\n",
    "  * You may open the file using Jupyter, your code editor, your local file system, etc.\n"
   ]
  },
  {
   "cell_type": "markdown",
   "metadata": {},
   "source": [
    "---\n",
    "#### Exercise Complete:\n",
    "* Great work!  You finished this exercise and you can move on to working with structured YAML data.\n"
   ]
  },
  {
   "cell_type": "markdown",
   "metadata": {},
   "source": [
    "---\n",
    "#### Navigation\n",
    "* [Home](../README.md)\n",
    "* [Exercise 1 - Python Objects & File Management](../part_i_python/python.ipynb)\n",
    "* **Exercise 2 - JSON Structured Data**\n",
    "* [Exercise 3 - YAML Structured Data](../part_iii_yaml/yaml.ipynb)\n",
    "* [Exercise 4 - XML Structured Data](../part_iv_xml/xml.ipynb)"
   ]
  },
  {
   "cell_type": "code",
   "execution_count": null,
   "metadata": {},
   "outputs": [],
   "source": []
  }
 ],
 "metadata": {
  "kernelspec": {
   "display_name": "Python 3",
   "language": "python",
   "name": "python3"
  },
  "language_info": {
   "codemirror_mode": {
    "name": "ipython",
    "version": 3
   },
   "file_extension": ".py",
   "mimetype": "text/x-python",
   "name": "python",
   "nbconvert_exporter": "python",
   "pygments_lexer": "ipython3",
   "version": "3.8.2"
  }
 },
 "nbformat": 4,
 "nbformat_minor": 4
}
